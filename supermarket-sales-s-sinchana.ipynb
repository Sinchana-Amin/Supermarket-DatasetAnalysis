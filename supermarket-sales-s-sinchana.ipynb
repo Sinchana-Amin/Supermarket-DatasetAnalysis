{
 "cells": [
  {
   "cell_type": "code",
   "execution_count": 1,
   "id": "952544cf",
   "metadata": {
    "_cell_guid": "b1076dfc-b9ad-4769-8c92-a6c4dae69d19",
    "_uuid": "8f2839f25d086af736a60e9eeb907d3b93b6e0e5",
    "execution": {
     "iopub.execute_input": "2021-09-20T15:20:20.298410Z",
     "iopub.status.busy": "2021-09-20T15:20:20.293790Z",
     "iopub.status.idle": "2021-09-20T15:20:20.312994Z",
     "shell.execute_reply": "2021-09-20T15:20:20.313910Z"
    },
    "papermill": {
     "duration": 0.058686,
     "end_time": "2021-09-20T15:20:20.314386",
     "exception": false,
     "start_time": "2021-09-20T15:20:20.255700",
     "status": "completed"
    },
    "tags": []
   },
   "outputs": [
    {
     "name": "stdout",
     "output_type": "stream",
     "text": [
      "/kaggle/input/supermarket-sales/supermarket_sales - Sheet1.csv\n"
     ]
    }
   ],
   "source": [
    "# This Python 3 environment comes with many helpful analytics libraries installed\n",
    "# It is defined by the kaggle/python Docker image: https://github.com/kaggle/docker-python\n",
    "# For example, here's several helpful packages to load\n",
    "\n",
    "import numpy as np # linear algebra\n",
    "import pandas as pd # data processing, CSV file I/O (e.g. pd.read_csv)\n",
    "\n",
    "# Input data files are available in the read-only \"../input/\" directory\n",
    "# For example, running this (by clicking run or pressing Shift+Enter) will list all files under the input directory\n",
    "\n",
    "import os\n",
    "for dirname, _, filenames in os.walk('/kaggle/input'):\n",
    "    for filename in filenames:\n",
    "        print(os.path.join(dirname, filename))\n",
    "\n",
    "# You can write up to 20GB to the current directory (/kaggle/working/) that gets preserved as output when you create a version using \"Save & Run All\" \n",
    "# You can also write temporary files to /kaggle/temp/, but they won't be saved outside of the current session"
   ]
  },
  {
   "cell_type": "code",
   "execution_count": 2,
   "id": "93c1a5cf",
   "metadata": {
    "execution": {
     "iopub.execute_input": "2021-09-20T15:20:20.375735Z",
     "iopub.status.busy": "2021-09-20T15:20:20.374873Z",
     "iopub.status.idle": "2021-09-20T15:20:21.480062Z",
     "shell.execute_reply": "2021-09-20T15:20:21.480547Z",
     "shell.execute_reply.started": "2021-09-20T13:48:11.336894Z"
    },
    "papermill": {
     "duration": 1.136804,
     "end_time": "2021-09-20T15:20:21.480804",
     "exception": false,
     "start_time": "2021-09-20T15:20:20.344000",
     "status": "completed"
    },
    "tags": []
   },
   "outputs": [],
   "source": [
    "import pandas as pd\n",
    "import numpy as np\n",
    "import matplotlib.pyplot as plt\n",
    "import seaborn as sns"
   ]
  },
  {
   "cell_type": "code",
   "execution_count": 3,
   "id": "5520aca7",
   "metadata": {
    "execution": {
     "iopub.execute_input": "2021-09-20T15:20:21.540219Z",
     "iopub.status.busy": "2021-09-20T15:20:21.539452Z",
     "iopub.status.idle": "2021-09-20T15:20:21.595961Z",
     "shell.execute_reply": "2021-09-20T15:20:21.596497Z",
     "shell.execute_reply.started": "2021-09-20T13:48:14.317290Z"
    },
    "papermill": {
     "duration": 0.090409,
     "end_time": "2021-09-20T15:20:21.596681",
     "exception": false,
     "start_time": "2021-09-20T15:20:21.506272",
     "status": "completed"
    },
    "tags": []
   },
   "outputs": [
    {
     "data": {
      "text/html": [
       "<div>\n",
       "<style scoped>\n",
       "    .dataframe tbody tr th:only-of-type {\n",
       "        vertical-align: middle;\n",
       "    }\n",
       "\n",
       "    .dataframe tbody tr th {\n",
       "        vertical-align: top;\n",
       "    }\n",
       "\n",
       "    .dataframe thead th {\n",
       "        text-align: right;\n",
       "    }\n",
       "</style>\n",
       "<table border=\"1\" class=\"dataframe\">\n",
       "  <thead>\n",
       "    <tr style=\"text-align: right;\">\n",
       "      <th></th>\n",
       "      <th>Invoice ID</th>\n",
       "      <th>Branch</th>\n",
       "      <th>City</th>\n",
       "      <th>Customer type</th>\n",
       "      <th>Gender</th>\n",
       "      <th>Product line</th>\n",
       "      <th>Unit price</th>\n",
       "      <th>Quantity</th>\n",
       "      <th>Tax 5%</th>\n",
       "      <th>Total</th>\n",
       "      <th>Date</th>\n",
       "      <th>Time</th>\n",
       "      <th>Payment</th>\n",
       "      <th>cogs</th>\n",
       "      <th>gross margin percentage</th>\n",
       "      <th>gross income</th>\n",
       "      <th>Rating</th>\n",
       "    </tr>\n",
       "  </thead>\n",
       "  <tbody>\n",
       "    <tr>\n",
       "      <th>0</th>\n",
       "      <td>750-67-8428</td>\n",
       "      <td>A</td>\n",
       "      <td>Yangon</td>\n",
       "      <td>Member</td>\n",
       "      <td>Female</td>\n",
       "      <td>Health and beauty</td>\n",
       "      <td>74.69</td>\n",
       "      <td>7</td>\n",
       "      <td>26.1415</td>\n",
       "      <td>548.9715</td>\n",
       "      <td>1/5/2019</td>\n",
       "      <td>13:08</td>\n",
       "      <td>Ewallet</td>\n",
       "      <td>522.83</td>\n",
       "      <td>4.761905</td>\n",
       "      <td>26.1415</td>\n",
       "      <td>9.1</td>\n",
       "    </tr>\n",
       "    <tr>\n",
       "      <th>1</th>\n",
       "      <td>226-31-3081</td>\n",
       "      <td>C</td>\n",
       "      <td>Naypyitaw</td>\n",
       "      <td>Normal</td>\n",
       "      <td>Female</td>\n",
       "      <td>Electronic accessories</td>\n",
       "      <td>15.28</td>\n",
       "      <td>5</td>\n",
       "      <td>3.8200</td>\n",
       "      <td>80.2200</td>\n",
       "      <td>3/8/2019</td>\n",
       "      <td>10:29</td>\n",
       "      <td>Cash</td>\n",
       "      <td>76.40</td>\n",
       "      <td>4.761905</td>\n",
       "      <td>3.8200</td>\n",
       "      <td>9.6</td>\n",
       "    </tr>\n",
       "    <tr>\n",
       "      <th>2</th>\n",
       "      <td>631-41-3108</td>\n",
       "      <td>A</td>\n",
       "      <td>Yangon</td>\n",
       "      <td>Normal</td>\n",
       "      <td>Male</td>\n",
       "      <td>Home and lifestyle</td>\n",
       "      <td>46.33</td>\n",
       "      <td>7</td>\n",
       "      <td>16.2155</td>\n",
       "      <td>340.5255</td>\n",
       "      <td>3/3/2019</td>\n",
       "      <td>13:23</td>\n",
       "      <td>Credit card</td>\n",
       "      <td>324.31</td>\n",
       "      <td>4.761905</td>\n",
       "      <td>16.2155</td>\n",
       "      <td>7.4</td>\n",
       "    </tr>\n",
       "    <tr>\n",
       "      <th>3</th>\n",
       "      <td>123-19-1176</td>\n",
       "      <td>A</td>\n",
       "      <td>Yangon</td>\n",
       "      <td>Member</td>\n",
       "      <td>Male</td>\n",
       "      <td>Health and beauty</td>\n",
       "      <td>58.22</td>\n",
       "      <td>8</td>\n",
       "      <td>23.2880</td>\n",
       "      <td>489.0480</td>\n",
       "      <td>1/27/2019</td>\n",
       "      <td>20:33</td>\n",
       "      <td>Ewallet</td>\n",
       "      <td>465.76</td>\n",
       "      <td>4.761905</td>\n",
       "      <td>23.2880</td>\n",
       "      <td>8.4</td>\n",
       "    </tr>\n",
       "    <tr>\n",
       "      <th>4</th>\n",
       "      <td>373-73-7910</td>\n",
       "      <td>A</td>\n",
       "      <td>Yangon</td>\n",
       "      <td>Normal</td>\n",
       "      <td>Male</td>\n",
       "      <td>Sports and travel</td>\n",
       "      <td>86.31</td>\n",
       "      <td>7</td>\n",
       "      <td>30.2085</td>\n",
       "      <td>634.3785</td>\n",
       "      <td>2/8/2019</td>\n",
       "      <td>10:37</td>\n",
       "      <td>Ewallet</td>\n",
       "      <td>604.17</td>\n",
       "      <td>4.761905</td>\n",
       "      <td>30.2085</td>\n",
       "      <td>5.3</td>\n",
       "    </tr>\n",
       "  </tbody>\n",
       "</table>\n",
       "</div>"
      ],
      "text/plain": [
       "    Invoice ID Branch       City Customer type  Gender  \\\n",
       "0  750-67-8428      A     Yangon        Member  Female   \n",
       "1  226-31-3081      C  Naypyitaw        Normal  Female   \n",
       "2  631-41-3108      A     Yangon        Normal    Male   \n",
       "3  123-19-1176      A     Yangon        Member    Male   \n",
       "4  373-73-7910      A     Yangon        Normal    Male   \n",
       "\n",
       "             Product line  Unit price  Quantity   Tax 5%     Total       Date  \\\n",
       "0       Health and beauty       74.69         7  26.1415  548.9715   1/5/2019   \n",
       "1  Electronic accessories       15.28         5   3.8200   80.2200   3/8/2019   \n",
       "2      Home and lifestyle       46.33         7  16.2155  340.5255   3/3/2019   \n",
       "3       Health and beauty       58.22         8  23.2880  489.0480  1/27/2019   \n",
       "4       Sports and travel       86.31         7  30.2085  634.3785   2/8/2019   \n",
       "\n",
       "    Time      Payment    cogs  gross margin percentage  gross income  Rating  \n",
       "0  13:08      Ewallet  522.83                 4.761905       26.1415     9.1  \n",
       "1  10:29         Cash   76.40                 4.761905        3.8200     9.6  \n",
       "2  13:23  Credit card  324.31                 4.761905       16.2155     7.4  \n",
       "3  20:33      Ewallet  465.76                 4.761905       23.2880     8.4  \n",
       "4  10:37      Ewallet  604.17                 4.761905       30.2085     5.3  "
      ]
     },
     "execution_count": 3,
     "metadata": {},
     "output_type": "execute_result"
    }
   ],
   "source": [
    "df=pd.read_csv('../input/supermarket-sales/supermarket_sales - Sheet1.csv')\n",
    "df.head()"
   ]
  },
  {
   "cell_type": "code",
   "execution_count": 4,
   "id": "a4816345",
   "metadata": {
    "execution": {
     "iopub.execute_input": "2021-09-20T15:20:21.671155Z",
     "iopub.status.busy": "2021-09-20T15:20:21.668897Z",
     "iopub.status.idle": "2021-09-20T15:20:21.702755Z",
     "shell.execute_reply": "2021-09-20T15:20:21.701573Z",
     "shell.execute_reply.started": "2021-09-20T13:59:31.608831Z"
    },
    "papermill": {
     "duration": 0.078608,
     "end_time": "2021-09-20T15:20:21.702946",
     "exception": false,
     "start_time": "2021-09-20T15:20:21.624338",
     "status": "completed"
    },
    "tags": []
   },
   "outputs": [
    {
     "data": {
      "text/html": [
       "<div>\n",
       "<style scoped>\n",
       "    .dataframe tbody tr th:only-of-type {\n",
       "        vertical-align: middle;\n",
       "    }\n",
       "\n",
       "    .dataframe tbody tr th {\n",
       "        vertical-align: top;\n",
       "    }\n",
       "\n",
       "    .dataframe thead th {\n",
       "        text-align: right;\n",
       "    }\n",
       "</style>\n",
       "<table border=\"1\" class=\"dataframe\">\n",
       "  <thead>\n",
       "    <tr style=\"text-align: right;\">\n",
       "      <th></th>\n",
       "      <th>Unit price</th>\n",
       "      <th>Quantity</th>\n",
       "      <th>Tax 5%</th>\n",
       "      <th>Total</th>\n",
       "      <th>cogs</th>\n",
       "      <th>gross margin percentage</th>\n",
       "      <th>gross income</th>\n",
       "      <th>Rating</th>\n",
       "    </tr>\n",
       "  </thead>\n",
       "  <tbody>\n",
       "    <tr>\n",
       "      <th>count</th>\n",
       "      <td>1000.000000</td>\n",
       "      <td>1000.000000</td>\n",
       "      <td>1000.000000</td>\n",
       "      <td>1000.000000</td>\n",
       "      <td>1000.00000</td>\n",
       "      <td>1.000000e+03</td>\n",
       "      <td>1000.000000</td>\n",
       "      <td>1000.00000</td>\n",
       "    </tr>\n",
       "    <tr>\n",
       "      <th>mean</th>\n",
       "      <td>55.672130</td>\n",
       "      <td>5.510000</td>\n",
       "      <td>15.379369</td>\n",
       "      <td>322.966749</td>\n",
       "      <td>307.58738</td>\n",
       "      <td>4.761905e+00</td>\n",
       "      <td>15.379369</td>\n",
       "      <td>6.97270</td>\n",
       "    </tr>\n",
       "    <tr>\n",
       "      <th>std</th>\n",
       "      <td>26.494628</td>\n",
       "      <td>2.923431</td>\n",
       "      <td>11.708825</td>\n",
       "      <td>245.885335</td>\n",
       "      <td>234.17651</td>\n",
       "      <td>6.131498e-14</td>\n",
       "      <td>11.708825</td>\n",
       "      <td>1.71858</td>\n",
       "    </tr>\n",
       "    <tr>\n",
       "      <th>min</th>\n",
       "      <td>10.080000</td>\n",
       "      <td>1.000000</td>\n",
       "      <td>0.508500</td>\n",
       "      <td>10.678500</td>\n",
       "      <td>10.17000</td>\n",
       "      <td>4.761905e+00</td>\n",
       "      <td>0.508500</td>\n",
       "      <td>4.00000</td>\n",
       "    </tr>\n",
       "    <tr>\n",
       "      <th>25%</th>\n",
       "      <td>32.875000</td>\n",
       "      <td>3.000000</td>\n",
       "      <td>5.924875</td>\n",
       "      <td>124.422375</td>\n",
       "      <td>118.49750</td>\n",
       "      <td>4.761905e+00</td>\n",
       "      <td>5.924875</td>\n",
       "      <td>5.50000</td>\n",
       "    </tr>\n",
       "    <tr>\n",
       "      <th>50%</th>\n",
       "      <td>55.230000</td>\n",
       "      <td>5.000000</td>\n",
       "      <td>12.088000</td>\n",
       "      <td>253.848000</td>\n",
       "      <td>241.76000</td>\n",
       "      <td>4.761905e+00</td>\n",
       "      <td>12.088000</td>\n",
       "      <td>7.00000</td>\n",
       "    </tr>\n",
       "    <tr>\n",
       "      <th>75%</th>\n",
       "      <td>77.935000</td>\n",
       "      <td>8.000000</td>\n",
       "      <td>22.445250</td>\n",
       "      <td>471.350250</td>\n",
       "      <td>448.90500</td>\n",
       "      <td>4.761905e+00</td>\n",
       "      <td>22.445250</td>\n",
       "      <td>8.50000</td>\n",
       "    </tr>\n",
       "    <tr>\n",
       "      <th>max</th>\n",
       "      <td>99.960000</td>\n",
       "      <td>10.000000</td>\n",
       "      <td>49.650000</td>\n",
       "      <td>1042.650000</td>\n",
       "      <td>993.00000</td>\n",
       "      <td>4.761905e+00</td>\n",
       "      <td>49.650000</td>\n",
       "      <td>10.00000</td>\n",
       "    </tr>\n",
       "  </tbody>\n",
       "</table>\n",
       "</div>"
      ],
      "text/plain": [
       "        Unit price     Quantity       Tax 5%        Total        cogs  \\\n",
       "count  1000.000000  1000.000000  1000.000000  1000.000000  1000.00000   \n",
       "mean     55.672130     5.510000    15.379369   322.966749   307.58738   \n",
       "std      26.494628     2.923431    11.708825   245.885335   234.17651   \n",
       "min      10.080000     1.000000     0.508500    10.678500    10.17000   \n",
       "25%      32.875000     3.000000     5.924875   124.422375   118.49750   \n",
       "50%      55.230000     5.000000    12.088000   253.848000   241.76000   \n",
       "75%      77.935000     8.000000    22.445250   471.350250   448.90500   \n",
       "max      99.960000    10.000000    49.650000  1042.650000   993.00000   \n",
       "\n",
       "       gross margin percentage  gross income      Rating  \n",
       "count             1.000000e+03   1000.000000  1000.00000  \n",
       "mean              4.761905e+00     15.379369     6.97270  \n",
       "std               6.131498e-14     11.708825     1.71858  \n",
       "min               4.761905e+00      0.508500     4.00000  \n",
       "25%               4.761905e+00      5.924875     5.50000  \n",
       "50%               4.761905e+00     12.088000     7.00000  \n",
       "75%               4.761905e+00     22.445250     8.50000  \n",
       "max               4.761905e+00     49.650000    10.00000  "
      ]
     },
     "execution_count": 4,
     "metadata": {},
     "output_type": "execute_result"
    }
   ],
   "source": [
    "df.describe()"
   ]
  },
  {
   "cell_type": "code",
   "execution_count": 5,
   "id": "ea01ee05",
   "metadata": {
    "execution": {
     "iopub.execute_input": "2021-09-20T15:20:21.768399Z",
     "iopub.status.busy": "2021-09-20T15:20:21.767602Z",
     "iopub.status.idle": "2021-09-20T15:20:21.780200Z",
     "shell.execute_reply": "2021-09-20T15:20:21.779252Z",
     "shell.execute_reply.started": "2021-09-20T14:01:19.537578Z"
    },
    "papermill": {
     "duration": 0.049219,
     "end_time": "2021-09-20T15:20:21.780404",
     "exception": false,
     "start_time": "2021-09-20T15:20:21.731185",
     "status": "completed"
    },
    "tags": []
   },
   "outputs": [
    {
     "name": "stdout",
     "output_type": "stream",
     "text": [
      "<class 'pandas.core.frame.DataFrame'>\n",
      "RangeIndex: 1000 entries, 0 to 999\n",
      "Data columns (total 17 columns):\n",
      " #   Column                   Non-Null Count  Dtype  \n",
      "---  ------                   --------------  -----  \n",
      " 0   Invoice ID               1000 non-null   object \n",
      " 1   Branch                   1000 non-null   object \n",
      " 2   City                     1000 non-null   object \n",
      " 3   Customer type            1000 non-null   object \n",
      " 4   Gender                   1000 non-null   object \n",
      " 5   Product line             1000 non-null   object \n",
      " 6   Unit price               1000 non-null   float64\n",
      " 7   Quantity                 1000 non-null   int64  \n",
      " 8   Tax 5%                   1000 non-null   float64\n",
      " 9   Total                    1000 non-null   float64\n",
      " 10  Date                     1000 non-null   object \n",
      " 11  Time                     1000 non-null   object \n",
      " 12  Payment                  1000 non-null   object \n",
      " 13  cogs                     1000 non-null   float64\n",
      " 14  gross margin percentage  1000 non-null   float64\n",
      " 15  gross income             1000 non-null   float64\n",
      " 16  Rating                   1000 non-null   float64\n",
      "dtypes: float64(7), int64(1), object(9)\n",
      "memory usage: 132.9+ KB\n"
     ]
    }
   ],
   "source": [
    "df.info()"
   ]
  },
  {
   "cell_type": "code",
   "execution_count": 6,
   "id": "8f07de4e",
   "metadata": {
    "execution": {
     "iopub.execute_input": "2021-09-20T15:20:21.846665Z",
     "iopub.status.busy": "2021-09-20T15:20:21.845742Z",
     "iopub.status.idle": "2021-09-20T15:20:21.849629Z",
     "shell.execute_reply": "2021-09-20T15:20:21.849088Z",
     "shell.execute_reply.started": "2021-09-20T14:02:13.197663Z"
    },
    "papermill": {
     "duration": 0.041211,
     "end_time": "2021-09-20T15:20:21.849777",
     "exception": false,
     "start_time": "2021-09-20T15:20:21.808566",
     "status": "completed"
    },
    "tags": []
   },
   "outputs": [
    {
     "data": {
      "text/plain": [
       "Invoice ID                 0\n",
       "Branch                     0\n",
       "City                       0\n",
       "Customer type              0\n",
       "Gender                     0\n",
       "Product line               0\n",
       "Unit price                 0\n",
       "Quantity                   0\n",
       "Tax 5%                     0\n",
       "Total                      0\n",
       "Date                       0\n",
       "Time                       0\n",
       "Payment                    0\n",
       "cogs                       0\n",
       "gross margin percentage    0\n",
       "gross income               0\n",
       "Rating                     0\n",
       "dtype: int64"
      ]
     },
     "execution_count": 6,
     "metadata": {},
     "output_type": "execute_result"
    }
   ],
   "source": [
    "df.isnull().sum()"
   ]
  },
  {
   "cell_type": "code",
   "execution_count": 7,
   "id": "0922d323",
   "metadata": {
    "execution": {
     "iopub.execute_input": "2021-09-20T15:20:21.911476Z",
     "iopub.status.busy": "2021-09-20T15:20:21.910542Z",
     "iopub.status.idle": "2021-09-20T15:20:21.912310Z",
     "shell.execute_reply": "2021-09-20T15:20:21.912805Z",
     "shell.execute_reply.started": "2021-09-20T14:03:31.888834Z"
    },
    "papermill": {
     "duration": 0.036083,
     "end_time": "2021-09-20T15:20:21.913037",
     "exception": false,
     "start_time": "2021-09-20T15:20:21.876954",
     "status": "completed"
    },
    "tags": []
   },
   "outputs": [],
   "source": [
    "df=df.drop(['Invoice ID','Date','Time'],axis=1)"
   ]
  },
  {
   "cell_type": "code",
   "execution_count": 8,
   "id": "ced34950",
   "metadata": {
    "execution": {
     "iopub.execute_input": "2021-09-20T15:20:21.974054Z",
     "iopub.status.busy": "2021-09-20T15:20:21.972995Z",
     "iopub.status.idle": "2021-09-20T15:20:21.983794Z",
     "shell.execute_reply": "2021-09-20T15:20:21.983180Z",
     "shell.execute_reply.started": "2021-09-20T14:04:30.918135Z"
    },
    "papermill": {
     "duration": 0.041993,
     "end_time": "2021-09-20T15:20:21.983968",
     "exception": false,
     "start_time": "2021-09-20T15:20:21.941975",
     "status": "completed"
    },
    "tags": []
   },
   "outputs": [
    {
     "data": {
      "text/plain": [
       "array([4.76190476])"
      ]
     },
     "execution_count": 8,
     "metadata": {},
     "output_type": "execute_result"
    }
   ],
   "source": [
    "#cogs-cost of goods sold\n",
    "df['gross margin percentage'].unique()"
   ]
  },
  {
   "cell_type": "code",
   "execution_count": 9,
   "id": "9b31c384",
   "metadata": {
    "execution": {
     "iopub.execute_input": "2021-09-20T15:20:22.050700Z",
     "iopub.status.busy": "2021-09-20T15:20:22.049959Z",
     "iopub.status.idle": "2021-09-20T15:20:22.052619Z",
     "shell.execute_reply": "2021-09-20T15:20:22.053185Z",
     "shell.execute_reply.started": "2021-09-20T14:06:02.938571Z"
    },
    "papermill": {
     "duration": 0.040385,
     "end_time": "2021-09-20T15:20:22.053390",
     "exception": false,
     "start_time": "2021-09-20T15:20:22.013005",
     "status": "completed"
    },
    "tags": []
   },
   "outputs": [],
   "source": [
    "df=df.drop(['gross margin percentage'],axis=1)"
   ]
  },
  {
   "cell_type": "code",
   "execution_count": 10,
   "id": "5daf5b1c",
   "metadata": {
    "execution": {
     "iopub.execute_input": "2021-09-20T15:20:22.133681Z",
     "iopub.status.busy": "2021-09-20T15:20:22.132958Z",
     "iopub.status.idle": "2021-09-20T15:20:22.137310Z",
     "shell.execute_reply": "2021-09-20T15:20:22.136626Z",
     "shell.execute_reply.started": "2021-09-20T14:06:24.559119Z"
    },
    "papermill": {
     "duration": 0.05559,
     "end_time": "2021-09-20T15:20:22.137468",
     "exception": false,
     "start_time": "2021-09-20T15:20:22.081878",
     "status": "completed"
    },
    "tags": []
   },
   "outputs": [
    {
     "data": {
      "text/html": [
       "<div>\n",
       "<style scoped>\n",
       "    .dataframe tbody tr th:only-of-type {\n",
       "        vertical-align: middle;\n",
       "    }\n",
       "\n",
       "    .dataframe tbody tr th {\n",
       "        vertical-align: top;\n",
       "    }\n",
       "\n",
       "    .dataframe thead th {\n",
       "        text-align: right;\n",
       "    }\n",
       "</style>\n",
       "<table border=\"1\" class=\"dataframe\">\n",
       "  <thead>\n",
       "    <tr style=\"text-align: right;\">\n",
       "      <th></th>\n",
       "      <th>Branch</th>\n",
       "      <th>City</th>\n",
       "      <th>Customer type</th>\n",
       "      <th>Gender</th>\n",
       "      <th>Product line</th>\n",
       "      <th>Unit price</th>\n",
       "      <th>Quantity</th>\n",
       "      <th>Tax 5%</th>\n",
       "      <th>Total</th>\n",
       "      <th>Payment</th>\n",
       "      <th>cogs</th>\n",
       "      <th>gross income</th>\n",
       "      <th>Rating</th>\n",
       "    </tr>\n",
       "  </thead>\n",
       "  <tbody>\n",
       "    <tr>\n",
       "      <th>0</th>\n",
       "      <td>A</td>\n",
       "      <td>Yangon</td>\n",
       "      <td>Member</td>\n",
       "      <td>Female</td>\n",
       "      <td>Health and beauty</td>\n",
       "      <td>74.69</td>\n",
       "      <td>7</td>\n",
       "      <td>26.1415</td>\n",
       "      <td>548.9715</td>\n",
       "      <td>Ewallet</td>\n",
       "      <td>522.83</td>\n",
       "      <td>26.1415</td>\n",
       "      <td>9.1</td>\n",
       "    </tr>\n",
       "    <tr>\n",
       "      <th>1</th>\n",
       "      <td>C</td>\n",
       "      <td>Naypyitaw</td>\n",
       "      <td>Normal</td>\n",
       "      <td>Female</td>\n",
       "      <td>Electronic accessories</td>\n",
       "      <td>15.28</td>\n",
       "      <td>5</td>\n",
       "      <td>3.8200</td>\n",
       "      <td>80.2200</td>\n",
       "      <td>Cash</td>\n",
       "      <td>76.40</td>\n",
       "      <td>3.8200</td>\n",
       "      <td>9.6</td>\n",
       "    </tr>\n",
       "    <tr>\n",
       "      <th>2</th>\n",
       "      <td>A</td>\n",
       "      <td>Yangon</td>\n",
       "      <td>Normal</td>\n",
       "      <td>Male</td>\n",
       "      <td>Home and lifestyle</td>\n",
       "      <td>46.33</td>\n",
       "      <td>7</td>\n",
       "      <td>16.2155</td>\n",
       "      <td>340.5255</td>\n",
       "      <td>Credit card</td>\n",
       "      <td>324.31</td>\n",
       "      <td>16.2155</td>\n",
       "      <td>7.4</td>\n",
       "    </tr>\n",
       "    <tr>\n",
       "      <th>3</th>\n",
       "      <td>A</td>\n",
       "      <td>Yangon</td>\n",
       "      <td>Member</td>\n",
       "      <td>Male</td>\n",
       "      <td>Health and beauty</td>\n",
       "      <td>58.22</td>\n",
       "      <td>8</td>\n",
       "      <td>23.2880</td>\n",
       "      <td>489.0480</td>\n",
       "      <td>Ewallet</td>\n",
       "      <td>465.76</td>\n",
       "      <td>23.2880</td>\n",
       "      <td>8.4</td>\n",
       "    </tr>\n",
       "    <tr>\n",
       "      <th>4</th>\n",
       "      <td>A</td>\n",
       "      <td>Yangon</td>\n",
       "      <td>Normal</td>\n",
       "      <td>Male</td>\n",
       "      <td>Sports and travel</td>\n",
       "      <td>86.31</td>\n",
       "      <td>7</td>\n",
       "      <td>30.2085</td>\n",
       "      <td>634.3785</td>\n",
       "      <td>Ewallet</td>\n",
       "      <td>604.17</td>\n",
       "      <td>30.2085</td>\n",
       "      <td>5.3</td>\n",
       "    </tr>\n",
       "  </tbody>\n",
       "</table>\n",
       "</div>"
      ],
      "text/plain": [
       "  Branch       City Customer type  Gender            Product line  Unit price  \\\n",
       "0      A     Yangon        Member  Female       Health and beauty       74.69   \n",
       "1      C  Naypyitaw        Normal  Female  Electronic accessories       15.28   \n",
       "2      A     Yangon        Normal    Male      Home and lifestyle       46.33   \n",
       "3      A     Yangon        Member    Male       Health and beauty       58.22   \n",
       "4      A     Yangon        Normal    Male       Sports and travel       86.31   \n",
       "\n",
       "   Quantity   Tax 5%     Total      Payment    cogs  gross income  Rating  \n",
       "0         7  26.1415  548.9715      Ewallet  522.83       26.1415     9.1  \n",
       "1         5   3.8200   80.2200         Cash   76.40        3.8200     9.6  \n",
       "2         7  16.2155  340.5255  Credit card  324.31       16.2155     7.4  \n",
       "3         8  23.2880  489.0480      Ewallet  465.76       23.2880     8.4  \n",
       "4         7  30.2085  634.3785      Ewallet  604.17       30.2085     5.3  "
      ]
     },
     "execution_count": 10,
     "metadata": {},
     "output_type": "execute_result"
    }
   ],
   "source": [
    "df.head(5)"
   ]
  },
  {
   "cell_type": "code",
   "execution_count": 11,
   "id": "11333826",
   "metadata": {
    "execution": {
     "iopub.execute_input": "2021-09-20T15:20:22.199507Z",
     "iopub.status.busy": "2021-09-20T15:20:22.198555Z",
     "iopub.status.idle": "2021-09-20T15:20:22.201087Z",
     "shell.execute_reply": "2021-09-20T15:20:22.201574Z",
     "shell.execute_reply.started": "2021-09-20T14:08:49.618349Z"
    },
    "papermill": {
     "duration": 0.035176,
     "end_time": "2021-09-20T15:20:22.201763",
     "exception": false,
     "start_time": "2021-09-20T15:20:22.166587",
     "status": "completed"
    },
    "tags": []
   },
   "outputs": [],
   "source": [
    "#Data Visualisation\n",
    "#Below graph shows count of females and males is almost same"
   ]
  },
  {
   "cell_type": "code",
   "execution_count": 12,
   "id": "c895e6e9",
   "metadata": {
    "execution": {
     "iopub.execute_input": "2021-09-20T15:20:22.265751Z",
     "iopub.status.busy": "2021-09-20T15:20:22.265050Z",
     "iopub.status.idle": "2021-09-20T15:20:22.270140Z",
     "shell.execute_reply": "2021-09-20T15:20:22.269487Z",
     "shell.execute_reply.started": "2021-09-20T14:09:44.998298Z"
    },
    "papermill": {
     "duration": 0.040302,
     "end_time": "2021-09-20T15:20:22.270292",
     "exception": false,
     "start_time": "2021-09-20T15:20:22.229990",
     "status": "completed"
    },
    "tags": []
   },
   "outputs": [
    {
     "name": "stdout",
     "output_type": "stream",
     "text": [
      "(1000, 13)\n"
     ]
    },
    {
     "data": {
      "text/plain": [
       "Female    501\n",
       "Male      499\n",
       "Name: Gender, dtype: int64"
      ]
     },
     "execution_count": 12,
     "metadata": {},
     "output_type": "execute_result"
    }
   ],
   "source": [
    "print(df.shape)#1000 rows and 13 col\n",
    "df['Gender'].value_counts()"
   ]
  },
  {
   "cell_type": "code",
   "execution_count": 13,
   "id": "e99ad636",
   "metadata": {
    "execution": {
     "iopub.execute_input": "2021-09-20T15:20:22.336116Z",
     "iopub.status.busy": "2021-09-20T15:20:22.334990Z",
     "iopub.status.idle": "2021-09-20T15:20:22.575164Z",
     "shell.execute_reply": "2021-09-20T15:20:22.574402Z",
     "shell.execute_reply.started": "2021-09-20T14:11:37.423506Z"
    },
    "papermill": {
     "duration": 0.275849,
     "end_time": "2021-09-20T15:20:22.575345",
     "exception": false,
     "start_time": "2021-09-20T15:20:22.299496",
     "status": "completed"
    },
    "tags": []
   },
   "outputs": [
    {
     "name": "stderr",
     "output_type": "stream",
     "text": [
      "/opt/conda/lib/python3.7/site-packages/seaborn/_decorators.py:43: FutureWarning: Pass the following variable as a keyword arg: x. From version 0.12, the only valid positional argument will be `data`, and passing other arguments without an explicit keyword will result in an error or misinterpretation.\n",
      "  FutureWarning\n"
     ]
    },
    {
     "data": {
      "text/plain": [
       "<AxesSubplot:xlabel='Gender', ylabel='count'>"
      ]
     },
     "execution_count": 13,
     "metadata": {},
     "output_type": "execute_result"
    },
    {
     "data": {
      "image/png": "[encoded data removed]",
      "text/plain": [
       "<Figure size 432x288 with 1 Axes>"
      ]
     },
     "metadata": {
      "needs_background": "light"
     },
     "output_type": "display_data"
    }
   ],
   "source": [
    "sns.countplot('Gender',data=df)"
   ]
  },
  {
   "cell_type": "code",
   "execution_count": 14,
   "id": "5e191791",
   "metadata": {
    "execution": {
     "iopub.execute_input": "2021-09-20T15:20:22.643181Z",
     "iopub.status.busy": "2021-09-20T15:20:22.642482Z",
     "iopub.status.idle": "2021-09-20T15:20:22.644421Z",
     "shell.execute_reply": "2021-09-20T15:20:22.644954Z"
    },
    "papermill": {
     "duration": 0.036513,
     "end_time": "2021-09-20T15:20:22.645136",
     "exception": false,
     "start_time": "2021-09-20T15:20:22.608623",
     "status": "completed"
    },
    "tags": []
   },
   "outputs": [],
   "source": [
    "#creating dummies for gender column for getting numeric data for seaborn bar plot"
   ]
  },
  {
   "cell_type": "code",
   "execution_count": 15,
   "id": "a13c0697",
   "metadata": {
    "execution": {
     "iopub.execute_input": "2021-09-20T15:20:22.709297Z",
     "iopub.status.busy": "2021-09-20T15:20:22.708633Z",
     "iopub.status.idle": "2021-09-20T15:20:22.719558Z",
     "shell.execute_reply": "2021-09-20T15:20:22.720146Z",
     "shell.execute_reply.started": "2021-09-20T14:14:25.378248Z"
    },
    "papermill": {
     "duration": 0.044475,
     "end_time": "2021-09-20T15:20:22.720318",
     "exception": false,
     "start_time": "2021-09-20T15:20:22.675843",
     "status": "completed"
    },
    "tags": []
   },
   "outputs": [
    {
     "data": {
      "text/html": [
       "<div>\n",
       "<style scoped>\n",
       "    .dataframe tbody tr th:only-of-type {\n",
       "        vertical-align: middle;\n",
       "    }\n",
       "\n",
       "    .dataframe tbody tr th {\n",
       "        vertical-align: top;\n",
       "    }\n",
       "\n",
       "    .dataframe thead th {\n",
       "        text-align: right;\n",
       "    }\n",
       "</style>\n",
       "<table border=\"1\" class=\"dataframe\">\n",
       "  <thead>\n",
       "    <tr style=\"text-align: right;\">\n",
       "      <th></th>\n",
       "      <th>Female</th>\n",
       "      <th>Male</th>\n",
       "    </tr>\n",
       "  </thead>\n",
       "  <tbody>\n",
       "    <tr>\n",
       "      <th>0</th>\n",
       "      <td>1</td>\n",
       "      <td>0</td>\n",
       "    </tr>\n",
       "    <tr>\n",
       "      <th>1</th>\n",
       "      <td>1</td>\n",
       "      <td>0</td>\n",
       "    </tr>\n",
       "    <tr>\n",
       "      <th>2</th>\n",
       "      <td>0</td>\n",
       "      <td>1</td>\n",
       "    </tr>\n",
       "    <tr>\n",
       "      <th>3</th>\n",
       "      <td>0</td>\n",
       "      <td>1</td>\n",
       "    </tr>\n",
       "    <tr>\n",
       "      <th>4</th>\n",
       "      <td>0</td>\n",
       "      <td>1</td>\n",
       "    </tr>\n",
       "  </tbody>\n",
       "</table>\n",
       "</div>"
      ],
      "text/plain": [
       "   Female  Male\n",
       "0       1     0\n",
       "1       1     0\n",
       "2       0     1\n",
       "3       0     1\n",
       "4       0     1"
      ]
     },
     "execution_count": 15,
     "metadata": {},
     "output_type": "execute_result"
    }
   ],
   "source": [
    "gender_dummies=pd.get_dummies(df['Gender'])\n",
    "gender_dummies.head()"
   ]
  },
  {
   "cell_type": "code",
   "execution_count": 16,
   "id": "8831c652",
   "metadata": {
    "execution": {
     "iopub.execute_input": "2021-09-20T15:20:22.787220Z",
     "iopub.status.busy": "2021-09-20T15:20:22.786550Z",
     "iopub.status.idle": "2021-09-20T15:20:22.792391Z",
     "shell.execute_reply": "2021-09-20T15:20:22.791706Z"
    },
    "papermill": {
     "duration": 0.040699,
     "end_time": "2021-09-20T15:20:22.792546",
     "exception": false,
     "start_time": "2021-09-20T15:20:22.751847",
     "status": "completed"
    },
    "tags": []
   },
   "outputs": [],
   "source": [
    "#joining original data frame(df) with gender dummies data frame (gender_dummies)"
   ]
  },
  {
   "cell_type": "code",
   "execution_count": 17,
   "id": "cee3528f",
   "metadata": {
    "execution": {
     "iopub.execute_input": "2021-09-20T15:20:22.876795Z",
     "iopub.status.busy": "2021-09-20T15:20:22.876112Z",
     "iopub.status.idle": "2021-09-20T15:20:22.878875Z",
     "shell.execute_reply": "2021-09-20T15:20:22.879382Z",
     "shell.execute_reply.started": "2021-09-20T14:17:32.137864Z"
    },
    "papermill": {
     "duration": 0.056069,
     "end_time": "2021-09-20T15:20:22.879558",
     "exception": false,
     "start_time": "2021-09-20T15:20:22.823489",
     "status": "completed"
    },
    "tags": []
   },
   "outputs": [
    {
     "data": {
      "text/html": [
       "<div>\n",
       "<style scoped>\n",
       "    .dataframe tbody tr th:only-of-type {\n",
       "        vertical-align: middle;\n",
       "    }\n",
       "\n",
       "    .dataframe tbody tr th {\n",
       "        vertical-align: top;\n",
       "    }\n",
       "\n",
       "    .dataframe thead th {\n",
       "        text-align: right;\n",
       "    }\n",
       "</style>\n",
       "<table border=\"1\" class=\"dataframe\">\n",
       "  <thead>\n",
       "    <tr style=\"text-align: right;\">\n",
       "      <th></th>\n",
       "      <th>Branch</th>\n",
       "      <th>City</th>\n",
       "      <th>Customer type</th>\n",
       "      <th>Gender</th>\n",
       "      <th>Product line</th>\n",
       "      <th>Unit price</th>\n",
       "      <th>Quantity</th>\n",
       "      <th>Tax 5%</th>\n",
       "      <th>Total</th>\n",
       "      <th>Payment</th>\n",
       "      <th>cogs</th>\n",
       "      <th>gross income</th>\n",
       "      <th>Rating</th>\n",
       "      <th>Female</th>\n",
       "      <th>Male</th>\n",
       "    </tr>\n",
       "  </thead>\n",
       "  <tbody>\n",
       "    <tr>\n",
       "      <th>0</th>\n",
       "      <td>A</td>\n",
       "      <td>Yangon</td>\n",
       "      <td>Member</td>\n",
       "      <td>Female</td>\n",
       "      <td>Health and beauty</td>\n",
       "      <td>74.69</td>\n",
       "      <td>7</td>\n",
       "      <td>26.1415</td>\n",
       "      <td>548.9715</td>\n",
       "      <td>Ewallet</td>\n",
       "      <td>522.83</td>\n",
       "      <td>26.1415</td>\n",
       "      <td>9.1</td>\n",
       "      <td>1</td>\n",
       "      <td>0</td>\n",
       "    </tr>\n",
       "    <tr>\n",
       "      <th>1</th>\n",
       "      <td>C</td>\n",
       "      <td>Naypyitaw</td>\n",
       "      <td>Normal</td>\n",
       "      <td>Female</td>\n",
       "      <td>Electronic accessories</td>\n",
       "      <td>15.28</td>\n",
       "      <td>5</td>\n",
       "      <td>3.8200</td>\n",
       "      <td>80.2200</td>\n",
       "      <td>Cash</td>\n",
       "      <td>76.40</td>\n",
       "      <td>3.8200</td>\n",
       "      <td>9.6</td>\n",
       "      <td>1</td>\n",
       "      <td>0</td>\n",
       "    </tr>\n",
       "    <tr>\n",
       "      <th>2</th>\n",
       "      <td>A</td>\n",
       "      <td>Yangon</td>\n",
       "      <td>Normal</td>\n",
       "      <td>Male</td>\n",
       "      <td>Home and lifestyle</td>\n",
       "      <td>46.33</td>\n",
       "      <td>7</td>\n",
       "      <td>16.2155</td>\n",
       "      <td>340.5255</td>\n",
       "      <td>Credit card</td>\n",
       "      <td>324.31</td>\n",
       "      <td>16.2155</td>\n",
       "      <td>7.4</td>\n",
       "      <td>0</td>\n",
       "      <td>1</td>\n",
       "    </tr>\n",
       "    <tr>\n",
       "      <th>3</th>\n",
       "      <td>A</td>\n",
       "      <td>Yangon</td>\n",
       "      <td>Member</td>\n",
       "      <td>Male</td>\n",
       "      <td>Health and beauty</td>\n",
       "      <td>58.22</td>\n",
       "      <td>8</td>\n",
       "      <td>23.2880</td>\n",
       "      <td>489.0480</td>\n",
       "      <td>Ewallet</td>\n",
       "      <td>465.76</td>\n",
       "      <td>23.2880</td>\n",
       "      <td>8.4</td>\n",
       "      <td>0</td>\n",
       "      <td>1</td>\n",
       "    </tr>\n",
       "    <tr>\n",
       "      <th>4</th>\n",
       "      <td>A</td>\n",
       "      <td>Yangon</td>\n",
       "      <td>Normal</td>\n",
       "      <td>Male</td>\n",
       "      <td>Sports and travel</td>\n",
       "      <td>86.31</td>\n",
       "      <td>7</td>\n",
       "      <td>30.2085</td>\n",
       "      <td>634.3785</td>\n",
       "      <td>Ewallet</td>\n",
       "      <td>604.17</td>\n",
       "      <td>30.2085</td>\n",
       "      <td>5.3</td>\n",
       "      <td>0</td>\n",
       "      <td>1</td>\n",
       "    </tr>\n",
       "  </tbody>\n",
       "</table>\n",
       "</div>"
      ],
      "text/plain": [
       "  Branch       City Customer type  Gender            Product line  Unit price  \\\n",
       "0      A     Yangon        Member  Female       Health and beauty       74.69   \n",
       "1      C  Naypyitaw        Normal  Female  Electronic accessories       15.28   \n",
       "2      A     Yangon        Normal    Male      Home and lifestyle       46.33   \n",
       "3      A     Yangon        Member    Male       Health and beauty       58.22   \n",
       "4      A     Yangon        Normal    Male       Sports and travel       86.31   \n",
       "\n",
       "   Quantity   Tax 5%     Total      Payment    cogs  gross income  Rating  \\\n",
       "0         7  26.1415  548.9715      Ewallet  522.83       26.1415     9.1   \n",
       "1         5   3.8200   80.2200         Cash   76.40        3.8200     9.6   \n",
       "2         7  16.2155  340.5255  Credit card  324.31       16.2155     7.4   \n",
       "3         8  23.2880  489.0480      Ewallet  465.76       23.2880     8.4   \n",
       "4         7  30.2085  634.3785      Ewallet  604.17       30.2085     5.3   \n",
       "\n",
       "   Female  Male  \n",
       "0       1     0  \n",
       "1       1     0  \n",
       "2       0     1  \n",
       "3       0     1  \n",
       "4       0     1  "
      ]
     },
     "execution_count": 17,
     "metadata": {},
     "output_type": "execute_result"
    }
   ],
   "source": [
    "df=pd.concat([df,gender_dummies],axis=1)\n",
    "df.head()"
   ]
  },
  {
   "cell_type": "code",
   "execution_count": 18,
   "id": "fe12d5bc",
   "metadata": {
    "execution": {
     "iopub.execute_input": "2021-09-20T15:20:22.946676Z",
     "iopub.status.busy": "2021-09-20T15:20:22.946022Z",
     "iopub.status.idle": "2021-09-20T15:20:23.403498Z",
     "shell.execute_reply": "2021-09-20T15:20:23.402807Z",
     "shell.execute_reply.started": "2021-09-20T14:22:02.904743Z"
    },
    "papermill": {
     "duration": 0.491767,
     "end_time": "2021-09-20T15:20:23.403651",
     "exception": false,
     "start_time": "2021-09-20T15:20:22.911884",
     "status": "completed"
    },
    "tags": []
   },
   "outputs": [
    {
     "data": {
      "text/plain": [
       "<AxesSubplot:xlabel='Product line', ylabel='Female'>"
      ]
     },
     "execution_count": 18,
     "metadata": {},
     "output_type": "execute_result"
    },
    {
     "data": {
      "image/png": "[encoded data removed]",
      "text/plain": [
       "<Figure size 864x432 with 1 Axes>"
      ]
     },
     "metadata": {
      "needs_background": "light"
     },
     "output_type": "display_data"
    }
   ],
   "source": [
    "plt.figure(figsize=(12,6))\n",
    "sns.barplot(x='Product line',y='Female',data=df)\n",
    "#more than 50% of bills of fashion accessories are purchased by female"
   ]
  },
  {
   "cell_type": "code",
   "execution_count": 19,
   "id": "deaaa70e",
   "metadata": {
    "execution": {
     "iopub.execute_input": "2021-09-20T15:20:23.479429Z",
     "iopub.status.busy": "2021-09-20T15:20:23.478395Z",
     "iopub.status.idle": "2021-09-20T15:20:23.924782Z",
     "shell.execute_reply": "2021-09-20T15:20:23.924066Z",
     "shell.execute_reply.started": "2021-09-20T14:24:21.139134Z"
    },
    "papermill": {
     "duration": 0.488411,
     "end_time": "2021-09-20T15:20:23.924950",
     "exception": false,
     "start_time": "2021-09-20T15:20:23.436539",
     "status": "completed"
    },
    "tags": []
   },
   "outputs": [
    {
     "data": {
      "text/plain": [
       "<AxesSubplot:xlabel='Product line', ylabel='Male'>"
      ]
     },
     "execution_count": 19,
     "metadata": {},
     "output_type": "execute_result"
    },
    {
     "data": {
      "image/png": "[encoded data removed]",
      "text/plain": [
       "<Figure size 864x432 with 1 Axes>"
      ]
     },
     "metadata": {
      "needs_background": "light"
     },
     "output_type": "display_data"
    }
   ],
   "source": [
    "plt.figure(figsize=(12,6))\n",
    "sns.barplot(x='Product line',y='Male',data=df)"
   ]
  },
  {
   "cell_type": "code",
   "execution_count": 20,
   "id": "6b61b95f",
   "metadata": {
    "execution": {
     "iopub.execute_input": "2021-09-20T15:20:24.004185Z",
     "iopub.status.busy": "2021-09-20T15:20:24.003276Z",
     "iopub.status.idle": "2021-09-20T15:20:24.007374Z",
     "shell.execute_reply": "2021-09-20T15:20:24.006861Z",
     "shell.execute_reply.started": "2021-09-20T14:25:51.299570Z"
    },
    "papermill": {
     "duration": 0.048078,
     "end_time": "2021-09-20T15:20:24.007563",
     "exception": false,
     "start_time": "2021-09-20T15:20:23.959485",
     "status": "completed"
    },
    "tags": []
   },
   "outputs": [
    {
     "data": {
      "text/html": [
       "<div>\n",
       "<style scoped>\n",
       "    .dataframe tbody tr th:only-of-type {\n",
       "        vertical-align: middle;\n",
       "    }\n",
       "\n",
       "    .dataframe tbody tr th {\n",
       "        vertical-align: top;\n",
       "    }\n",
       "\n",
       "    .dataframe thead th {\n",
       "        text-align: right;\n",
       "    }\n",
       "</style>\n",
       "<table border=\"1\" class=\"dataframe\">\n",
       "  <thead>\n",
       "    <tr style=\"text-align: right;\">\n",
       "      <th></th>\n",
       "      <th>City</th>\n",
       "    </tr>\n",
       "  </thead>\n",
       "  <tbody>\n",
       "    <tr>\n",
       "      <th>Yangon</th>\n",
       "      <td>340</td>\n",
       "    </tr>\n",
       "    <tr>\n",
       "      <th>Mandalay</th>\n",
       "      <td>332</td>\n",
       "    </tr>\n",
       "    <tr>\n",
       "      <th>Naypyitaw</th>\n",
       "      <td>328</td>\n",
       "    </tr>\n",
       "  </tbody>\n",
       "</table>\n",
       "</div>"
      ],
      "text/plain": [
       "           City\n",
       "Yangon      340\n",
       "Mandalay    332\n",
       "Naypyitaw   328"
      ]
     },
     "execution_count": 20,
     "metadata": {},
     "output_type": "execute_result"
    }
   ],
   "source": [
    "#plotting customers per cities\n",
    "place_df=pd.DataFrame(df['City'].value_counts())\n",
    "place_df"
   ]
  },
  {
   "cell_type": "code",
   "execution_count": 21,
   "id": "53a328ab",
   "metadata": {
    "execution": {
     "iopub.execute_input": "2021-09-20T15:20:24.100437Z",
     "iopub.status.busy": "2021-09-20T15:20:24.099748Z",
     "iopub.status.idle": "2021-09-20T15:20:24.282880Z",
     "shell.execute_reply": "2021-09-20T15:20:24.283396Z",
     "shell.execute_reply.started": "2021-09-20T14:29:01.339293Z"
    },
    "papermill": {
     "duration": 0.242218,
     "end_time": "2021-09-20T15:20:24.283574",
     "exception": false,
     "start_time": "2021-09-20T15:20:24.041356",
     "status": "completed"
    },
    "tags": []
   },
   "outputs": [
    {
     "data": {
      "text/plain": [
       "<AxesSubplot:ylabel='City'>"
      ]
     },
     "execution_count": 21,
     "metadata": {},
     "output_type": "execute_result"
    },
    {
     "data": {
      "image/png": "[encoded data removed]",
      "text/plain": [
       "<Figure size 432x288 with 1 Axes>"
      ]
     },
     "metadata": {
      "needs_background": "light"
     },
     "output_type": "display_data"
    }
   ],
   "source": [
    "sns.barplot(x=place_df.index,y=place_df['City'],palette='hot')"
   ]
  },
  {
   "cell_type": "code",
   "execution_count": 22,
   "id": "bc9b37d5",
   "metadata": {
    "execution": {
     "iopub.execute_input": "2021-09-20T15:20:24.356549Z",
     "iopub.status.busy": "2021-09-20T15:20:24.355906Z",
     "iopub.status.idle": "2021-09-20T15:20:24.365611Z",
     "shell.execute_reply": "2021-09-20T15:20:24.366258Z",
     "shell.execute_reply.started": "2021-09-20T14:33:21.144001Z"
    },
    "papermill": {
     "duration": 0.048003,
     "end_time": "2021-09-20T15:20:24.366446",
     "exception": false,
     "start_time": "2021-09-20T15:20:24.318443",
     "status": "completed"
    },
    "tags": []
   },
   "outputs": [
    {
     "data": {
      "text/html": [
       "<div>\n",
       "<style scoped>\n",
       "    .dataframe tbody tr th:only-of-type {\n",
       "        vertical-align: middle;\n",
       "    }\n",
       "\n",
       "    .dataframe tbody tr th {\n",
       "        vertical-align: top;\n",
       "    }\n",
       "\n",
       "    .dataframe thead th {\n",
       "        text-align: right;\n",
       "    }\n",
       "</style>\n",
       "<table border=\"1\" class=\"dataframe\">\n",
       "  <thead>\n",
       "    <tr style=\"text-align: right;\">\n",
       "      <th></th>\n",
       "      <th>Payment</th>\n",
       "    </tr>\n",
       "  </thead>\n",
       "  <tbody>\n",
       "    <tr>\n",
       "      <th>Ewallet</th>\n",
       "      <td>345</td>\n",
       "    </tr>\n",
       "    <tr>\n",
       "      <th>Cash</th>\n",
       "      <td>344</td>\n",
       "    </tr>\n",
       "    <tr>\n",
       "      <th>Credit card</th>\n",
       "      <td>311</td>\n",
       "    </tr>\n",
       "  </tbody>\n",
       "</table>\n",
       "</div>"
      ],
      "text/plain": [
       "             Payment\n",
       "Ewallet          345\n",
       "Cash             344\n",
       "Credit card      311"
      ]
     },
     "execution_count": 22,
     "metadata": {},
     "output_type": "execute_result"
    }
   ],
   "source": [
    "#plotting different payment methods count\n",
    "\n",
    "payment_df=pd.DataFrame(df['Payment'].value_counts())\n",
    "payment_df"
   ]
  },
  {
   "cell_type": "code",
   "execution_count": 23,
   "id": "10494fc0",
   "metadata": {
    "execution": {
     "iopub.execute_input": "2021-09-20T15:20:24.441198Z",
     "iopub.status.busy": "2021-09-20T15:20:24.440494Z",
     "iopub.status.idle": "2021-09-20T15:20:24.637991Z",
     "shell.execute_reply": "2021-09-20T15:20:24.638475Z",
     "shell.execute_reply.started": "2021-09-20T14:34:51.358238Z"
    },
    "papermill": {
     "duration": 0.236531,
     "end_time": "2021-09-20T15:20:24.638663",
     "exception": false,
     "start_time": "2021-09-20T15:20:24.402132",
     "status": "completed"
    },
    "tags": []
   },
   "outputs": [
    {
     "data": {
      "text/plain": [
       "<AxesSubplot:ylabel='Payment'>"
      ]
     },
     "execution_count": 23,
     "metadata": {},
     "output_type": "execute_result"
    },
    {
     "data": {
      "image/png": "[encoded data removed]",
      "text/plain": [
       "<Figure size 432x288 with 1 Axes>"
      ]
     },
     "metadata": {
      "needs_background": "light"
     },
     "output_type": "display_data"
    }
   ],
   "source": [
    "sns.barplot(x=payment_df.index,y=payment_df.Payment)"
   ]
  },
  {
   "cell_type": "code",
   "execution_count": 24,
   "id": "d0f52fb1",
   "metadata": {
    "execution": {
     "iopub.execute_input": "2021-09-20T15:20:24.715457Z",
     "iopub.status.busy": "2021-09-20T15:20:24.714704Z",
     "iopub.status.idle": "2021-09-20T15:20:25.167372Z",
     "shell.execute_reply": "2021-09-20T15:20:25.167849Z",
     "shell.execute_reply.started": "2021-09-20T14:39:02.758782Z"
    },
    "papermill": {
     "duration": 0.492792,
     "end_time": "2021-09-20T15:20:25.168055",
     "exception": false,
     "start_time": "2021-09-20T15:20:24.675263",
     "status": "completed"
    },
    "tags": []
   },
   "outputs": [
    {
     "data": {
      "text/plain": [
       "<AxesSubplot:xlabel='Product line', ylabel='gross income'>"
      ]
     },
     "execution_count": 24,
     "metadata": {},
     "output_type": "execute_result"
    },
    {
     "data": {
      "image/png": "[encoded data removed]",
      "text/plain": [
       "<Figure size 864x432 with 1 Axes>"
      ]
     },
     "metadata": {
      "needs_background": "light"
     },
     "output_type": "display_data"
    }
   ],
   "source": [
    "#getting Gross Income plot for each product line\n",
    "plt.figure(figsize=(12,6))\n",
    "sns.barplot(x=df['Product line'],y=df['gross income'])\n",
    "\n",
    "#home and lufestyle is earning largest profit"
   ]
  },
  {
   "cell_type": "code",
   "execution_count": 25,
   "id": "85f1e0a3",
   "metadata": {
    "execution": {
     "iopub.execute_input": "2021-09-20T15:20:25.246858Z",
     "iopub.status.busy": "2021-09-20T15:20:25.246172Z",
     "iopub.status.idle": "2021-09-20T15:20:25.759383Z",
     "shell.execute_reply": "2021-09-20T15:20:25.758855Z",
     "shell.execute_reply.started": "2021-09-20T14:43:18.978005Z"
    },
    "papermill": {
     "duration": 0.553902,
     "end_time": "2021-09-20T15:20:25.759534",
     "exception": false,
     "start_time": "2021-09-20T15:20:25.205632",
     "status": "completed"
    },
    "tags": []
   },
   "outputs": [
    {
     "data": {
      "text/plain": [
       "([<matplotlib.axis.XTick at 0x7fea567cb250>,\n",
       "  <matplotlib.axis.XTick at 0x7fea56993510>,\n",
       "  <matplotlib.axis.XTick at 0x7fea567bc350>,\n",
       "  <matplotlib.axis.XTick at 0x7fea567a8350>,\n",
       "  <matplotlib.axis.XTick at 0x7fea567a8dd0>,\n",
       "  <matplotlib.axis.XTick at 0x7fea567a8d90>,\n",
       "  <matplotlib.axis.XTick at 0x7fea5679e090>,\n",
       "  <matplotlib.axis.XTick at 0x7fea56730650>,\n",
       "  <matplotlib.axis.XTick at 0x7fea56730a10>,\n",
       "  <matplotlib.axis.XTick at 0x7fea5673b550>,\n",
       "  <matplotlib.axis.XTick at 0x7fea5673b810>],\n",
       " [Text(0, 0, ''),\n",
       "  Text(0, 0, ''),\n",
       "  Text(0, 0, ''),\n",
       "  Text(0, 0, ''),\n",
       "  Text(0, 0, ''),\n",
       "  Text(0, 0, ''),\n",
       "  Text(0, 0, ''),\n",
       "  Text(0, 0, ''),\n",
       "  Text(0, 0, ''),\n",
       "  Text(0, 0, ''),\n",
       "  Text(0, 0, '')])"
      ]
     },
     "execution_count": 25,
     "metadata": {},
     "output_type": "execute_result"
    },
    {
     "data": {
      "image/png": "[encoded data removed]",
      "text/plain": [
       "<Figure size 864x432 with 1 Axes>"
      ]
     },
     "metadata": {
      "needs_background": "light"
     },
     "output_type": "display_data"
    }
   ],
   "source": [
    "#which product line is getting good rating\n",
    "xdata=[0,1,2,3,4,5,6,7,8,9,10]\n",
    "plt.figure(figsize=(12,6))\n",
    "sns.barplot(y=df['Product line'],x=df['Rating'])\n",
    "plt.xticks(xdata)"
   ]
  },
  {
   "cell_type": "code",
   "execution_count": 26,
   "id": "04bf516c",
   "metadata": {
    "execution": {
     "iopub.execute_input": "2021-09-20T15:20:25.842527Z",
     "iopub.status.busy": "2021-09-20T15:20:25.841868Z",
     "iopub.status.idle": "2021-09-20T15:20:26.291712Z",
     "shell.execute_reply": "2021-09-20T15:20:26.290892Z",
     "shell.execute_reply.started": "2021-09-20T14:45:27.328066Z"
    },
    "papermill": {
     "duration": 0.493469,
     "end_time": "2021-09-20T15:20:26.291898",
     "exception": false,
     "start_time": "2021-09-20T15:20:25.798429",
     "status": "completed"
    },
    "tags": []
   },
   "outputs": [
    {
     "data": {
      "text/plain": [
       "<AxesSubplot:xlabel='Total', ylabel='Product line'>"
      ]
     },
     "execution_count": 26,
     "metadata": {},
     "output_type": "execute_result"
    },
    {
     "data": {
      "image/png": "[encoded data removed]",
      "text/plain": [
       "<Figure size 864x432 with 1 Axes>"
      ]
     },
     "metadata": {
      "needs_background": "light"
     },
     "output_type": "display_data"
    }
   ],
   "source": [
    "#total bill in each product line\n",
    "plt.figure(figsize=(12,6))\n",
    "sns.barplot(x=df['Total'],y=df['Product line'])"
   ]
  },
  {
   "cell_type": "code",
   "execution_count": 27,
   "id": "bddba94b",
   "metadata": {
    "execution": {
     "iopub.execute_input": "2021-09-20T15:20:26.375434Z",
     "iopub.status.busy": "2021-09-20T15:20:26.374739Z",
     "iopub.status.idle": "2021-09-20T15:20:26.678639Z",
     "shell.execute_reply": "2021-09-20T15:20:26.678098Z",
     "shell.execute_reply.started": "2021-09-20T14:49:16.518348Z"
    },
    "papermill": {
     "duration": 0.346994,
     "end_time": "2021-09-20T15:20:26.678790",
     "exception": false,
     "start_time": "2021-09-20T15:20:26.331796",
     "status": "completed"
    },
    "tags": []
   },
   "outputs": [
    {
     "name": "stderr",
     "output_type": "stream",
     "text": [
      "/opt/conda/lib/python3.7/site-packages/seaborn/distributions.py:2619: FutureWarning: `distplot` is a deprecated function and will be removed in a future version. Please adapt your code to use either `displot` (a figure-level function with similar flexibility) or `histplot` (an axes-level function for histograms).\n",
      "  warnings.warn(msg, FutureWarning)\n"
     ]
    },
    {
     "data": {
      "text/plain": [
       "([<matplotlib.axis.XTick at 0x7fea56635b50>,\n",
       "  <matplotlib.axis.XTick at 0x7fea56635ad0>,\n",
       "  <matplotlib.axis.XTick at 0x7fea56604f90>,\n",
       "  <matplotlib.axis.XTick at 0x7fea565b0810>,\n",
       "  <matplotlib.axis.XTick at 0x7fea565be3d0>,\n",
       "  <matplotlib.axis.XTick at 0x7fea565be6d0>,\n",
       "  <matplotlib.axis.XTick at 0x7fea565be990>,\n",
       "  <matplotlib.axis.XTick at 0x7fea565c7550>,\n",
       "  <matplotlib.axis.XTick at 0x7fea565b0a90>,\n",
       "  <matplotlib.axis.XTick at 0x7fea56677110>],\n",
       " [Text(0, 0, ''),\n",
       "  Text(0, 0, ''),\n",
       "  Text(0, 0, ''),\n",
       "  Text(0, 0, ''),\n",
       "  Text(0, 0, ''),\n",
       "  Text(0, 0, ''),\n",
       "  Text(0, 0, ''),\n",
       "  Text(0, 0, ''),\n",
       "  Text(0, 0, ''),\n",
       "  Text(0, 0, '')])"
      ]
     },
     "execution_count": 27,
     "metadata": {},
     "output_type": "execute_result"
    },
    {
     "data": {
      "image/png": "[encoded data removed]",
      "text/plain": [
       "<Figure size 864x432 with 1 Axes>"
      ]
     },
     "metadata": {
      "needs_background": "light"
     },
     "output_type": "display_data"
    }
   ],
   "source": [
    "#Exploring Quantity Column\n",
    "xdata=[1,2,3,4,5,6,7,8,9,10]\n",
    "plt.figure(figsize=(12,6))\n",
    "sns.distplot(df['Quantity'])\n",
    "plt.xticks(xdata)\n",
    "#most of the customers usually buys in 9-10 quantities"
   ]
  },
  {
   "cell_type": "code",
   "execution_count": 28,
   "id": "1a7a6681",
   "metadata": {
    "execution": {
     "iopub.execute_input": "2021-09-20T15:20:26.764781Z",
     "iopub.status.busy": "2021-09-20T15:20:26.764166Z",
     "iopub.status.idle": "2021-09-20T15:20:26.773734Z",
     "shell.execute_reply": "2021-09-20T15:20:26.773118Z",
     "shell.execute_reply.started": "2021-09-20T14:53:30.053463Z"
    },
    "papermill": {
     "duration": 0.053821,
     "end_time": "2021-09-20T15:20:26.773891",
     "exception": false,
     "start_time": "2021-09-20T15:20:26.720070",
     "status": "completed"
    },
    "tags": []
   },
   "outputs": [
    {
     "data": {
      "text/html": [
       "<div>\n",
       "<style scoped>\n",
       "    .dataframe tbody tr th:only-of-type {\n",
       "        vertical-align: middle;\n",
       "    }\n",
       "\n",
       "    .dataframe tbody tr th {\n",
       "        vertical-align: top;\n",
       "    }\n",
       "\n",
       "    .dataframe thead th {\n",
       "        text-align: right;\n",
       "    }\n",
       "</style>\n",
       "<table border=\"1\" class=\"dataframe\">\n",
       "  <thead>\n",
       "    <tr style=\"text-align: right;\">\n",
       "      <th></th>\n",
       "      <th>Quantity</th>\n",
       "    </tr>\n",
       "  </thead>\n",
       "  <tbody>\n",
       "    <tr>\n",
       "      <th>10</th>\n",
       "      <td>119</td>\n",
       "    </tr>\n",
       "    <tr>\n",
       "      <th>1</th>\n",
       "      <td>112</td>\n",
       "    </tr>\n",
       "    <tr>\n",
       "      <th>4</th>\n",
       "      <td>109</td>\n",
       "    </tr>\n",
       "    <tr>\n",
       "      <th>7</th>\n",
       "      <td>102</td>\n",
       "    </tr>\n",
       "    <tr>\n",
       "      <th>5</th>\n",
       "      <td>102</td>\n",
       "    </tr>\n",
       "    <tr>\n",
       "      <th>6</th>\n",
       "      <td>98</td>\n",
       "    </tr>\n",
       "    <tr>\n",
       "      <th>9</th>\n",
       "      <td>92</td>\n",
       "    </tr>\n",
       "    <tr>\n",
       "      <th>2</th>\n",
       "      <td>91</td>\n",
       "    </tr>\n",
       "    <tr>\n",
       "      <th>3</th>\n",
       "      <td>90</td>\n",
       "    </tr>\n",
       "    <tr>\n",
       "      <th>8</th>\n",
       "      <td>85</td>\n",
       "    </tr>\n",
       "  </tbody>\n",
       "</table>\n",
       "</div>"
      ],
      "text/plain": [
       "    Quantity\n",
       "10       119\n",
       "1        112\n",
       "4        109\n",
       "7        102\n",
       "5        102\n",
       "6         98\n",
       "9         92\n",
       "2         91\n",
       "3         90\n",
       "8         85"
      ]
     },
     "execution_count": 28,
     "metadata": {},
     "output_type": "execute_result"
    }
   ],
   "source": [
    "#quantity count based on sp\n",
    "quantity_df=pd.DataFrame(df['Quantity'].value_counts())\n",
    "quantity_df\n",
    "#so it proved that 9-10 Quantity sold the most"
   ]
  },
  {
   "cell_type": "code",
   "execution_count": 29,
   "id": "51d551a4",
   "metadata": {
    "execution": {
     "iopub.execute_input": "2021-09-20T15:20:26.860306Z",
     "iopub.status.busy": "2021-09-20T15:20:26.859685Z",
     "iopub.status.idle": "2021-09-20T15:20:27.127537Z",
     "shell.execute_reply": "2021-09-20T15:20:27.128049Z",
     "shell.execute_reply.started": "2021-09-20T14:56:06.012992Z"
    },
    "papermill": {
     "duration": 0.31277,
     "end_time": "2021-09-20T15:20:27.128264",
     "exception": false,
     "start_time": "2021-09-20T15:20:26.815494",
     "status": "completed"
    },
    "tags": []
   },
   "outputs": [
    {
     "data": {
      "text/plain": [
       "<AxesSubplot:ylabel='Quantity'>"
      ]
     },
     "execution_count": 29,
     "metadata": {},
     "output_type": "execute_result"
    },
    {
     "data": {
      "image/png": "[encoded data removed]",
      "text/plain": [
       "<Figure size 864x432 with 1 Axes>"
      ]
     },
     "metadata": {
      "needs_background": "light"
     },
     "output_type": "display_data"
    }
   ],
   "source": [
    "plt.figure(figsize=(12,6))\n",
    "sns.barplot(x=quantity_df.index,y=quantity_df['Quantity'],palette='inferno')"
   ]
  },
  {
   "cell_type": "code",
   "execution_count": 30,
   "id": "16a0593e",
   "metadata": {
    "execution": {
     "iopub.execute_input": "2021-09-20T15:20:27.218424Z",
     "iopub.status.busy": "2021-09-20T15:20:27.217727Z",
     "iopub.status.idle": "2021-09-20T15:20:27.601436Z",
     "shell.execute_reply": "2021-09-20T15:20:27.600767Z",
     "shell.execute_reply.started": "2021-09-20T14:57:46.979055Z"
    },
    "papermill": {
     "duration": 0.429979,
     "end_time": "2021-09-20T15:20:27.601580",
     "exception": false,
     "start_time": "2021-09-20T15:20:27.171601",
     "status": "completed"
    },
    "tags": []
   },
   "outputs": [
    {
     "data": {
      "text/plain": [
       "<AxesSubplot:>"
      ]
     },
     "execution_count": 30,
     "metadata": {},
     "output_type": "execute_result"
    },
    {
     "data": {
      "image/png": "[encoded data removed]",
      "text/plain": [
       "<Figure size 432x288 with 2 Axes>"
      ]
     },
     "metadata": {
      "needs_background": "light"
     },
     "output_type": "display_data"
    }
   ],
   "source": [
    "#ploting heatmap to check if any correlation between columns\n",
    "sns.heatmap(df.corr())"
   ]
  },
  {
   "cell_type": "code",
   "execution_count": 31,
   "id": "15fe18a8",
   "metadata": {
    "execution": {
     "iopub.execute_input": "2021-09-20T15:20:27.693764Z",
     "iopub.status.busy": "2021-09-20T15:20:27.693147Z",
     "iopub.status.idle": "2021-09-20T15:20:27.700730Z",
     "shell.execute_reply": "2021-09-20T15:20:27.699530Z"
    },
    "papermill": {
     "duration": 0.055047,
     "end_time": "2021-09-20T15:20:27.701036",
     "exception": true,
     "start_time": "2021-09-20T15:20:27.645989",
     "status": "failed"
    },
    "tags": []
   },
   "outputs": [
    {
     "ename": "SyntaxError",
     "evalue": "invalid syntax (3251411166.py, line 2)",
     "output_type": "error",
     "traceback": [
      "\u001b[0;36m  File \u001b[0;32m\"/tmp/ipykernel_20/3251411166.py\"\u001b[0;36m, line \u001b[0;32m2\u001b[0m\n\u001b[0;31m    1.Total cistomer=1000\u001b[0m\n\u001b[0m          ^\u001b[0m\n\u001b[0;31mSyntaxError\u001b[0m\u001b[0;31m:\u001b[0m invalid syntax\n"
     ]
    }
   ],
   "source": [
    "#Inference from the Analysis\n",
    "1.Total cistomer=1000\n",
    "2.Total Female=501\n",
    "3.Total Males=499\n",
    "4.Min Rating=4\n",
    "5.Max Rating=10\n",
    "6.Average Rating=6.97\n",
    "7.Best Average rating in food and beverages\n",
    "8.Max average gross income in home and lifestyle\n",
    "9.Min average gross income in fashion accessories\n",
    "10.max customers buys 10 quantities\n",
    "11. maximum average total bill in home and lifestyle\n",
    "12.min average tot bill in fashion accessories\n",
    "13. maximum people pays through e-wallet\n",
    "14.maximum people comes from yangon city\n",
    "15.maximum avg sales of fashion accessories is from females\n",
    "16.maximum average sales of health & beauty is from males"
   ]
  }
 ],
 "metadata": {
  "kernelspec": {
   "display_name": "Python 3",
   "language": "python",
   "name": "python3"
  },
  "language_info": {
   "codemirror_mode": {
    "name": "ipython",
    "version": 3
   },
   "file_extension": ".py",
   "mimetype": "text/x-python",
   "name": "python",
   "nbconvert_exporter": "python",
   "pygments_lexer": "ipython3",
   "version": "3.7.10"
  },
  "papermill": {
   "default_parameters": {},
   "duration": 18.811657,
   "end_time": "2021-09-20T15:20:29.397640",
   "environment_variables": {},
   "exception": true,
   "input_path": "__notebook__.ipynb",
   "output_path": "__notebook__.ipynb",
   "parameters": {},
   "start_time": "2021-09-20T15:20:10.585983",
   "version": "2.3.3"
  }
 },
 "nbformat": 4,
 "nbformat_minor": 5
}
